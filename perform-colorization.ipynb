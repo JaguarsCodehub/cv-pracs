{
 "cells": [
  {
   "cell_type": "code",
   "execution_count": 8,
   "metadata": {},
   "outputs": [
    {
     "ename": "error",
     "evalue": "OpenCV(4.9.0) D:\\a\\opencv-python\\opencv-python\\opencv\\modules\\dnn\\src\\caffe\\caffe_io.cpp:1126: error: (-2:Unspecified error) FAILED: fs.is_open(). Can't open \"colorization_deploy_v2.prototxt\" in function 'cv::dnn::ReadProtoFromTextFile'\n",
     "output_type": "error",
     "traceback": [
      "\u001b[1;31m---------------------------------------------------------------------------\u001b[0m",
      "\u001b[1;31merror\u001b[0m                                     Traceback (most recent call last)",
      "Cell \u001b[1;32mIn[8], line 4\u001b[0m\n\u001b[0;32m      2\u001b[0m \u001b[38;5;28;01mimport\u001b[39;00m \u001b[38;5;21;01mcv2\u001b[39;00m\n\u001b[0;32m      3\u001b[0m \u001b[38;5;28;01mimport\u001b[39;00m \u001b[38;5;21;01mmatplotlib\u001b[39;00m\u001b[38;5;21;01m.\u001b[39;00m\u001b[38;5;21;01mpyplot\u001b[39;00m \u001b[38;5;28;01mas\u001b[39;00m \u001b[38;5;21;01mplt\u001b[39;00m\n\u001b[1;32m----> 4\u001b[0m net\u001b[38;5;241m=\u001b[39m\u001b[43mcv2\u001b[49m\u001b[38;5;241;43m.\u001b[39;49m\u001b[43mdnn\u001b[49m\u001b[38;5;241;43m.\u001b[39;49m\u001b[43mreadNetFromCaffe\u001b[49m\u001b[43m(\u001b[49m\u001b[38;5;124;43m'\u001b[39;49m\u001b[38;5;124;43mcolorization_deploy_v2.prototxt\u001b[39;49m\u001b[38;5;124;43m'\u001b[39;49m\u001b[43m,\u001b[49m\u001b[38;5;124;43m'\u001b[39;49m\u001b[38;5;124;43mcolorization_release_v2.caffemodel\u001b[39;49m\u001b[38;5;124;43m'\u001b[39;49m\u001b[43m)\u001b[49m\n\u001b[0;32m      5\u001b[0m pts_in_hull\u001b[38;5;241m=\u001b[39m np\u001b[38;5;241m.\u001b[39mload(\u001b[38;5;124m'\u001b[39m\u001b[38;5;124mpts_in_hull.npy\u001b[39m\u001b[38;5;124m'\u001b[39m, allow_pickle\u001b[38;5;241m=\u001b[39m\u001b[38;5;28;01mTrue\u001b[39;00m)\n\u001b[0;32m      6\u001b[0m class8\u001b[38;5;241m=\u001b[39mnet\u001b[38;5;241m.\u001b[39mgetLayerId(\u001b[38;5;124m\"\u001b[39m\u001b[38;5;124mclass8_ab\u001b[39m\u001b[38;5;124m\"\u001b[39m)\n",
      "\u001b[1;31merror\u001b[0m: OpenCV(4.9.0) D:\\a\\opencv-python\\opencv-python\\opencv\\modules\\dnn\\src\\caffe\\caffe_io.cpp:1126: error: (-2:Unspecified error) FAILED: fs.is_open(). Can't open \"colorization_deploy_v2.prototxt\" in function 'cv::dnn::ReadProtoFromTextFile'\n"
     ]
    }
   ],
   "source": [
    "import numpy as np\n",
    "import cv2\n",
    "import matplotlib.pyplot as plt\n",
    "net=cv2.dnn.readNetFromCaffe('colorization_deploy_v2.prototxt','colorization_release_v2.caffemodel')\n",
    "pts_in_hull= np.load('pts_in_hull.npy', allow_pickle=True)\n",
    "class8=net.getLayerId(\"class8_ab\")\n",
    "conv8=net.getLayerId(\"conv8_313_rh\")\n",
    "pts_in_hull=pts_in_hull.transpose().reshape(2,313,1,1)\n",
    "net.getLayer(class8).blobs= [pts_in_hull.astype(np.float32)]\n",
    "net.getLayer(conv8).blobs=[np.full([1,313], 2.606, np.float32)]\n",
    "image=cv2.imread('flower.jpg')\n",
    "gray_image=cv2.cv2tColor(image, cv2.COLOR_BGR2GRAY)\n",
    "gray_image=cv2.cv2tColor(gray_image, cv2.COLOR_GRAY2RGB)\n",
    "normalized_image=gray_image.astype('float32') / 255.0\n",
    "lab_image=cv2.cv2tColor(normalized_image, cv2.COLOR_RGB2Lab)\n",
    "resized_l_channel=cv2.resize(lab_image[:,:,0], (224,224))\n",
    "resized_l_channel-=50\n",
    "net.setInput(cv2.dnn.blobFromImage(resized_l_channel))\n",
    "pred=net.forward()[0,:,:,:].transpose((1,2,0))\n",
    "pred_resized=cv2.resize(pred,(image.shape[1], image.shape[0]))\n",
    "colorized_image=np.concatenate((lab_image[:,:,0][:,:, np.newaxis], pred_resized), axis=2)\n",
    "colorized_image=cv2.cv2tColor(colorized_image, cv2.COLOR_Lab2BGR)\n",
    "colorized_image-np.clip(colorized_image, 0 ,1)\n",
    "colorized_image=(255*colorized_image).astype('uint8')\n",
    "cv2.imwrite('colorized_image.jpg', colorized_image)\n",
    "#cv2.imshow('Colorized Image', colorized_image)\n",
    "#cv2.waitKey(0)\n",
    "#cv2.destroyAllWindows()\n",
    "colorized_image_rgb= cv2.cv2tColor(colorized_image, cv2.COLOR_BGR2RGB)\n",
    "plt.figure(figsize=(8,8))\n",
    "plt.imshow(colorized_image_rgb)\n",
    "plt.axis('off')\n",
    "plt.show()"
   ]
  }
 ],
 "metadata": {
  "kernelspec": {
   "display_name": "Python 3",
   "language": "python",
   "name": "python3"
  },
  "language_info": {
   "codemirror_mode": {
    "name": "ipython",
    "version": 3
   },
   "file_extension": ".py",
   "mimetype": "text/x-python",
   "name": "python",
   "nbconvert_exporter": "python",
   "pygments_lexer": "ipython3",
   "version": "3.10.5"
  }
 },
 "nbformat": 4,
 "nbformat_minor": 2
}
