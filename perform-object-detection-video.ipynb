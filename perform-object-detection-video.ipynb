{
 "cells": [
  {
   "cell_type": "code",
   "execution_count": 1,
   "metadata": {},
   "outputs": [
    {
     "ename": "error",
     "evalue": "OpenCV(4.9.0) D:\\a\\opencv-python\\opencv-python\\opencv\\modules\\dnn\\src\\darknet\\darknet_importer.cpp:210: error: (-212:Parsing error) Failed to open NetParameter file: yolov.cfg in function 'cv::dnn::dnn4_v20231225::readNetFromDarknet'\n",
     "output_type": "error",
     "traceback": [
      "\u001b[1;31m---------------------------------------------------------------------------\u001b[0m",
      "\u001b[1;31merror\u001b[0m                                     Traceback (most recent call last)",
      "Cell \u001b[1;32mIn[1], line 5\u001b[0m\n\u001b[0;32m      3\u001b[0m \u001b[38;5;28;01mfrom\u001b[39;00m \u001b[38;5;21;01mIPython\u001b[39;00m\u001b[38;5;21;01m.\u001b[39;00m\u001b[38;5;21;01mdisplay\u001b[39;00m \u001b[38;5;28;01mimport\u001b[39;00m display, clear_output\n\u001b[0;32m      4\u001b[0m \u001b[38;5;28;01mimport\u001b[39;00m \u001b[38;5;21;01mmatplotlib\u001b[39;00m\u001b[38;5;21;01m.\u001b[39;00m\u001b[38;5;21;01mpyplot\u001b[39;00m \u001b[38;5;28;01mas\u001b[39;00m \u001b[38;5;21;01mplt\u001b[39;00m\n\u001b[1;32m----> 5\u001b[0m net\u001b[38;5;241m=\u001b[39m\u001b[43mcv2\u001b[49m\u001b[38;5;241;43m.\u001b[39;49m\u001b[43mdnn\u001b[49m\u001b[38;5;241;43m.\u001b[39;49m\u001b[43mreadNet\u001b[49m\u001b[43m(\u001b[49m\u001b[38;5;124;43m\"\u001b[39;49m\u001b[38;5;124;43myolov3.weights\u001b[39;49m\u001b[38;5;124;43m\"\u001b[39;49m\u001b[43m,\u001b[49m\u001b[43m \u001b[49m\u001b[38;5;124;43m\"\u001b[39;49m\u001b[38;5;124;43myolov.cfg\u001b[39;49m\u001b[38;5;124;43m\"\u001b[39;49m\u001b[43m)\u001b[49m\n\u001b[0;32m      6\u001b[0m classes\u001b[38;5;241m=\u001b[39m[]\n\u001b[0;32m      7\u001b[0m \u001b[38;5;28;01mwith\u001b[39;00m \u001b[38;5;28mopen\u001b[39m(\u001b[38;5;124m\"\u001b[39m\u001b[38;5;124mcoco.names\u001b[39m\u001b[38;5;124m\"\u001b[39m, \u001b[38;5;124m\"\u001b[39m\u001b[38;5;124mr\u001b[39m\u001b[38;5;124m\"\u001b[39m) \u001b[38;5;28;01mas\u001b[39;00m f:\n",
      "\u001b[1;31merror\u001b[0m: OpenCV(4.9.0) D:\\a\\opencv-python\\opencv-python\\opencv\\modules\\dnn\\src\\darknet\\darknet_importer.cpp:210: error: (-212:Parsing error) Failed to open NetParameter file: yolov.cfg in function 'cv::dnn::dnn4_v20231225::readNetFromDarknet'\n"
     ]
    }
   ],
   "source": [
    "import cv2\n",
    "import numpy as np\n",
    "from IPython.display import display, clear_output\n",
    "import matplotlib.pyplot as plt\n",
    "net=cv2.dnn.readNet(\"yolov3.weights\", \"yolov.cfg\")\n",
    "classes=[]\n",
    "with open(\"coco.names\", \"r\") as f:\n",
    "    classes=[line.strip() for line in f.readlines()]\n",
    "layer_names=net.getLayerNames()\n",
    "output_layers=[layer_names[i-1] for i in net.getUnconnectedOutLayers()]\n",
    "cap=cv2.VideoCapture('video.mp4')\n",
    "try:\n",
    "    while cap.isOpened():\n",
    "        ret,frame=cap.read()\n",
    "        if not ret:\n",
    "            break\n",
    "        height, width, channels = frame.shape\n",
    "        blob=cv2.dnn.blobFromImage(frame, 0.00392, (416,416), (0,0,0), True, crop=False)\n",
    "        net.setInput(blob)\n",
    "        outs=net.forward(output_layers)\n",
    "    class_ids=[]\n",
    "    confidences=[]\n",
    "    boxes=[]\n",
    "    for out in outs:\n",
    "        for detection in out:\n",
    "            scores=detection[5:]\n",
    "            class_id=np.argmax(scores)\n",
    "\n",
    "            confidence=scores[class_id]\n",
    "            if confidence > 0.5:\n",
    "                center_x=int(detection[0]*width)\n",
    "                center_y=int(detection[1]*height)\n",
    "                w=int(detection[2]*width)\n",
    "                h=int(detection[3]*height)\n",
    "                x=int(center_x - w/2)\n",
    "                y=int(center_y - h/2)\n",
    "                boxes.append([x,y,w,h])\n",
    "                confidences.append(float(confidence))\n",
    "                class_ids.append(class_id)\n",
    "        indexes=cv2.dnn.NMSBoxes(boxes, confidences, 0.5, 0.4)\n",
    "        for i in range(len(boxes)):\n",
    "            if i in indexes:\n",
    "                x,y,w,h=boxes[i]\n",
    "                label=str(classes[class_ids[i]])\n",
    "                color=(0,255,0) #GReen\n",
    "                cv2.rectangle(frame, (x,y), (x+w, y+h), color, 2)\n",
    "                cv2.putText(frame, label, (x,y+ 30), cv2.FONT_HERSHEY_PLAIN,1,color,2)\n",
    "        frame_rgb=cv2.cvtColor(frame, cv2.COLOR_BGR2RGB)\n",
    "        plt.figure(figsize=(10,10))\n",
    "        plt.imshow(frame_rgb)\n",
    "        plt.axis('off')\n",
    "        display(plt.gcf())\n",
    "        clear_output(wait=True)\n",
    "        plt.close()\n",
    "finally:\n",
    "    cap.release()\n",
    "    print(\"Stream ended\")"
   ]
  }
 ],
 "metadata": {
  "kernelspec": {
   "display_name": "Python 3",
   "language": "python",
   "name": "python3"
  },
  "language_info": {
   "codemirror_mode": {
    "name": "ipython",
    "version": 3
   },
   "file_extension": ".py",
   "mimetype": "text/x-python",
   "name": "python",
   "nbconvert_exporter": "python",
   "pygments_lexer": "ipython3",
   "version": "3.10.5"
  }
 },
 "nbformat": 4,
 "nbformat_minor": 2
}
